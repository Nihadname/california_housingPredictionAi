{
  "cells": [
    {
      "cell_type": "code",
      "execution_count": null,
      "metadata": {
        "id": "t2m7WHqd1sE8"
      },
      "outputs": [],
      "source": [
        "!mkdir -p ~/.kaggle\n",
        "!cp kaggle.json ~/.kaggle/\n",
        "!chmod 600 ~/.kaggle/kaggle.json\n"
      ]
    },
    {
      "cell_type": "code",
      "execution_count": null,
      "metadata": {
        "colab": {
          "base_uri": "https://localhost:8080/"
        },
        "id": "fJpWez6g3C9k",
        "outputId": "8b613073-7475-4b81-c5f9-c175601e0eb0"
      },
      "outputs": [
        {
          "name": "stdout",
          "output_type": "stream",
          "text": [
            "Requirement already satisfied: kaggle in /usr/local/lib/python3.10/dist-packages (1.6.17)\n",
            "Requirement already satisfied: six>=1.10 in /usr/local/lib/python3.10/dist-packages (from kaggle) (1.17.0)\n",
            "Requirement already satisfied: certifi>=2023.7.22 in /usr/local/lib/python3.10/dist-packages (from kaggle) (2024.8.30)\n",
            "Requirement already satisfied: python-dateutil in /usr/local/lib/python3.10/dist-packages (from kaggle) (2.8.2)\n",
            "Requirement already satisfied: requests in /usr/local/lib/python3.10/dist-packages (from kaggle) (2.32.3)\n",
            "Requirement already satisfied: tqdm in /usr/local/lib/python3.10/dist-packages (from kaggle) (4.66.6)\n",
            "Requirement already satisfied: python-slugify in /usr/local/lib/python3.10/dist-packages (from kaggle) (8.0.4)\n",
            "Requirement already satisfied: urllib3 in /usr/local/lib/python3.10/dist-packages (from kaggle) (2.2.3)\n",
            "Requirement already satisfied: bleach in /usr/local/lib/python3.10/dist-packages (from kaggle) (6.2.0)\n",
            "Requirement already satisfied: webencodings in /usr/local/lib/python3.10/dist-packages (from bleach->kaggle) (0.5.1)\n",
            "Requirement already satisfied: text-unidecode>=1.3 in /usr/local/lib/python3.10/dist-packages (from python-slugify->kaggle) (1.3)\n",
            "Requirement already satisfied: charset-normalizer<4,>=2 in /usr/local/lib/python3.10/dist-packages (from requests->kaggle) (3.4.0)\n",
            "Requirement already satisfied: idna<4,>=2.5 in /usr/local/lib/python3.10/dist-packages (from requests->kaggle) (3.10)\n"
          ]
        }
      ],
      "source": [
        "!pip install kaggle\n"
      ]
    },
    {
      "cell_type": "code",
      "execution_count": null,
      "metadata": {
        "colab": {
          "base_uri": "https://localhost:8080/"
        },
        "id": "4-fHOd2X3Hnb",
        "outputId": "5dac80d9-53d0-4b08-b5a3-6faef9276b36"
      },
      "outputs": [
        {
          "name": "stdout",
          "output_type": "stream",
          "text": [
            "usage: kaggle [-h] [-v] [-W] {competitions,c,datasets,d,kernels,k,models,m,files,f,config} ...\n",
            "kaggle: error: unrecognized arguments: Dataset\n"
          ]
        }
      ],
      "source": [
        "!kaggle datasets download -d Tourism Management Dataset\n",
        "\n"
      ]
    },
    {
      "cell_type": "code",
      "execution_count": null,
      "metadata": {
        "colab": {
          "base_uri": "https://localhost:8080/"
        },
        "id": "578gbQP53Z-i",
        "outputId": "7e2b6293-f79e-4799-fda5-81dedd055c7d"
      },
      "outputs": [
        {
          "name": "stdout",
          "output_type": "stream",
          "text": [
            "Dataset URL: https://www.kaggle.com/datasets/zillow/zecon\n",
            "License(s): copyright-authors\n",
            "Downloading zecon.zip to /content\n",
            " 99% 505M/511M [00:06<00:00, 87.0MB/s]\n",
            "100% 511M/511M [00:06<00:00, 81.9MB/s]\n"
          ]
        }
      ],
      "source": [
        "!kaggle datasets download -d zillow/zecon\n"
      ]
    },
    {
      "cell_type": "code",
      "execution_count": null,
      "metadata": {
        "colab": {
          "base_uri": "https://localhost:8080/"
        },
        "id": "8MU_8RRL3luz",
        "outputId": "f174ae5f-8c70-466e-960a-d85d753e9db0"
      },
      "outputs": [
        {
          "name": "stdout",
          "output_type": "stream",
          "text": [
            "Archive:  zecon.zip\n",
            "  inflating: City_time_series.csv    \n",
            "  inflating: CountyCrossWalk_Zillow.csv  \n",
            "  inflating: County_time_series.csv  \n",
            "  inflating: DataDictionary.csv      \n",
            "  inflating: Metro_time_series.csv   \n",
            "  inflating: Neighborhood_time_series.csv  \n",
            "  inflating: State_time_series.csv   \n",
            "  inflating: Zip_time_series.csv     \n",
            "  inflating: all_available_metrics.json  \n",
            "  inflating: cities_crosswalk.csv    \n",
            "  inflating: fields_per_level.json   \n"
          ]
        }
      ],
      "source": [
        "!unzip zecon.zip\n"
      ]
    },
    {
      "cell_type": "code",
      "execution_count": 5,
      "metadata": {
        "colab": {
          "base_uri": "https://localhost:8080/"
        },
        "id": "cyQ9oKNJ370s",
        "outputId": "a1d4a600-ce21-4744-fa7c-10f32ff670c6"
      },
      "outputs": [
        {
          "name": "stdout",
          "output_type": "stream",
          "text": [
            "   longitude  latitude  housing_median_age  total_rooms  total_bedrooms  \\\n",
            "0    -114.31     34.19                15.0       5612.0          1283.0   \n",
            "1    -114.47     34.40                19.0       7650.0          1901.0   \n",
            "2    -114.56     33.69                17.0        720.0           174.0   \n",
            "3    -114.57     33.64                14.0       1501.0           337.0   \n",
            "4    -114.57     33.57                20.0       1454.0           326.0   \n",
            "\n",
            "   population  households  median_income  median_house_value  \n",
            "0      1015.0       472.0         1.4936             66900.0  \n",
            "1      1129.0       463.0         1.8200             80100.0  \n",
            "2       333.0       117.0         1.6509             85700.0  \n",
            "3       515.0       226.0         3.1917             73400.0  \n",
            "4       624.0       262.0         1.9250             65500.0  \n",
            "Average number of rooms per house in California: 5.44\n",
            "longitude                  0\n",
            "latitude                   0\n",
            "housing_median_age         0\n",
            "total_rooms                0\n",
            "total_bedrooms             0\n",
            "population                 0\n",
            "households                 0\n",
            "median_income              0\n",
            "median_house_value         0\n",
            "average_rooms_per_house    0\n",
            "dtype: int64\n",
            "Mean Absolute Error (MAE): 32402.34\n",
            "Mean Squared Error (MSE): 2446525862.78\n",
            "R² Score: 0.82\n"
          ]
        }
      ],
      "source": [
        "import pandas as pd\n",
        "from sklearn.model_selection import train_test_split\n",
        "from sklearn.ensemble import RandomForestRegressor\n",
        "from sklearn.model_selection import GridSearchCV\n",
        "\n",
        "from sklearn.metrics import mean_absolute_error, mean_squared_error, r2_score\n",
        "\n",
        "# Load the CSV file\n",
        "data = pd.read_csv('./sample_data/california_housing_train.csv')  # Replace 'file_name.csv' with the actual file name\n",
        "print(data.head())\n",
        "data['average_rooms_per_house'] = data['total_rooms'] / data['households']\n",
        "\n",
        "# Get the overall average\n",
        "average_rooms = data['average_rooms_per_house'].mean()\n",
        "\n",
        "print(f\"Average number of rooms per house in California: {average_rooms:.2f}\")\n",
        "print(data.isnull().sum())\n",
        "# Features (X) and Target (y)\n",
        "features = ['median_income', 'housing_median_age', 'total_rooms', 'total_bedrooms',\n",
        "            'population', 'households', 'latitude', 'longitude']\n",
        "target = 'median_house_value'\n",
        "\n",
        "X = data[features]\n",
        "y = data[target]\n",
        "X_train, X_test, y_train, y_test = train_test_split(X, y, test_size=0.2, random_state=42)\n",
        "\n",
        "model = RandomForestRegressor(n_estimators=100, random_state=42)\n",
        "\n",
        "# Train the model\n",
        "model.fit(X_train, y_train)\n",
        "# Predict on the test set\n",
        "y_pred = model.predict(X_test)\n",
        "mae = mean_absolute_error(y_test, y_pred)\n",
        "mse = mean_squared_error(y_test, y_pred)\n",
        "r2 = r2_score(y_test, y_pred)\n",
        "\n",
        "print(f\"Mean Absolute Error (MAE): {mae:.2f}\")\n",
        "print(f\"Mean Squared Error (MSE): {mse:.2f}\")\n",
        "print(f\"R² Score: {r2:.2f}\")\n"
      ]
    }
  ],
  "metadata": {
    "colab": {
      "provenance": []
    },
    "kernelspec": {
      "display_name": "Python 3",
      "name": "python3"
    },
    "language_info": {
      "name": "python"
    }
  },
  "nbformat": 4,
  "nbformat_minor": 0
}
